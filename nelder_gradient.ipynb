{
 "cells": [
  {
   "attachments": {},
   "cell_type": "markdown",
   "metadata": {},
   "source": [
    "## Nelder-Mead algorithm\n",
    "\n",
    "Nelder-Mead is a direct search method for unconstrained optimization. The algorithm maintains a simplex, which is a set of n+1 vertices in n-dimensional space, and iteratively searches for the minimum of the objective function by performing the following steps:\n",
    "\n",
    "1. Sort the vertices in order of increasing objective function value, with x1 being the best point and xn+1 being the worst point.\n",
    "2. Compute the centroid of the n best points, excluding xn+1.\n",
    "3. Reflect xn+1 across the centroid to obtain xr.\n",
    "4. If xr is better than x1, but worse than the second-best point, accept xr as the new worst point and go to step 1.\n",
    "5. If xr is better than x1, accept xr as the new best point and compute the expanded point xe by reflecting xr even further.\n",
    "6. If xe is better than xr, accept xe as the new best point and go to step 1.\n",
    "7. If xr is worse than the worst point, compute the contracted point xc by reflecting xr back towards the centroid.\n",
    "8. If xc is better than xr, accept xc as the new worst point and go to step 1.\n",
    "9.  If none of the above conditions are met, shrink the simplex by computing the new points x2 to xn+1 as the midpoint between x1 and the corresponding point in the current simplex.\n",
    "10. Go to step 1.\n",
    "\n",
    "The algorithm terminates when a specified tolerance is reached or a maximum number of iterations is exceeded. Nelder-Mead is particularly well-suited for nonlinear optimization problems that are not differentiable or have noisy or discontinuous derivatives, since it only requires function evaluations and does not rely on gradient information."
   ]
  },
  {
   "cell_type": "code",
   "execution_count": 60,
   "metadata": {},
   "outputs": [
    {
     "name": "stdout",
     "output_type": "stream",
     "text": [
      "Minimum energy: 0.3944559163536579\n",
      "Particle locations: [-9.410665789310208 -3.5034763581823687 0.48445151298493405; -14.111350706000485 -1.423483536323563 2.5441213776181923; -3.440961399078262 -1.736433453622269 4.7296803732866; -1.007101006697379 9.711396001817556 0.8113108692728499; -0.6332077318043118 -6.148981796473035 2.091079786466203; 1.29195056268231 0.8823187392300194 -0.7007676414474004; 3.5648469091528243 -0.7876911519855225 4.6763610168315815; 7.027787674179736 1.093449528754995 -5.331286320802527; 12.468828962426738 -0.5448292762024548 3.360129150278811; 1.852925801765193 -0.8444753806537333 -12.32272550685967]\n"
     ]
    }
   ],
   "source": [
    "using Optim\n",
    "using LinearAlgebra\n",
    "\n",
    "function energy_obj(x::Vector)\n",
    "    n = length(x)÷3\n",
    "    X = reshape(x, n, 3)\n",
    "    energy = 0.0\n",
    "    for i in 1:n, j in (i+1):n\n",
    "        energy += 1.0/norm(X[i,:] - X[j,:])^2\n",
    "    end\n",
    "    return energy\n",
    "end\n",
    "\n",
    "function optimization(n::Int)\n",
    "    x0 = randn(n*3)\n",
    "    #print(\"x0\", x0)\n",
    "    x0 ./= sqrt.(sum(x0.^2))\n",
    "    X0 = reshape(x0, n, 3)\n",
    "    for j in 1:n\n",
    "        norm_k = norm(X0[j, 1:3])\n",
    "        for k in 1:3\n",
    "            X0[j, k] = X0[j, k] ./ norm_k\n",
    "        end\n",
    "        #print(norm(X[j, 1:3]))\n",
    "    end\n",
    "    x0 = reshape(X0, n*3)\n",
    "    result = optimize(energy_obj, x0, NelderMead())\n",
    "    return result\n",
    "end\n",
    "\n",
    "n = 10 # number of particles\n",
    "result = optimization(n)\n",
    "x = reshape(result.minimizer, n, 3)\n",
    "\n",
    "println(\"Minimum energy: \", result.minimum)\n",
    "println(\"Particle locations: \", x)\n"
   ]
  },
  {
   "cell_type": "code",
   "execution_count": 31,
   "metadata": {},
   "outputs": [
    {
     "name": "stderr",
     "output_type": "stream",
     "text": [
      "\u001b[32m\u001b[1m   Resolving\u001b[22m\u001b[39m package versions...\n",
      "\u001b[32m\u001b[1m  No Changes\u001b[22m\u001b[39m to `~/.julia/environments/v1.8/Project.toml`\n",
      "\u001b[32m\u001b[1m  No Changes\u001b[22m\u001b[39m to `~/.julia/environments/v1.8/Manifest.toml`\n",
      "\u001b[32m\u001b[1m   Resolving\u001b[22m\u001b[39m package versions...\n",
      "\u001b[32m\u001b[1m  No Changes\u001b[22m\u001b[39m to `~/.julia/environments/v1.8/Project.toml`\n",
      "\u001b[32m\u001b[1m  No Changes\u001b[22m\u001b[39m to `~/.julia/environments/v1.8/Manifest.toml`\n",
      "\u001b[32m\u001b[1m   Resolving\u001b[22m\u001b[39m package versions...\n",
      "\u001b[32m\u001b[1m  No Changes\u001b[22m\u001b[39m to `~/.julia/environments/v1.8/Project.toml`\n",
      "\u001b[32m\u001b[1m  No Changes\u001b[22m\u001b[39m to `~/.julia/environments/v1.8/Manifest.toml`\n"
     ]
    },
    {
     "ename": "LoadError",
     "evalue": "UndefVarError: with_optimizer not defined",
     "output_type": "error",
     "traceback": [
      "UndefVarError: with_optimizer not defined",
      "",
      "Stacktrace:",
      " [1] thompson_optimization(n::Int64)",
      "   @ Main ./In[31]:17",
      " [2] top-level scope",
      "   @ In[31]:37"
     ]
    }
   ],
   "source": [
    "import Pkg; Pkg.add(\"Ipopt\")\n",
    "Pkg.add(\"JuMP\")\n",
    "import Pkg; Pkg.add(\"MathOptInterface\")\n",
    "using JuMP, Ipopt\n",
    "\n",
    "function thompson_energy(x::Vector)\n",
    "    n = length(x)÷3\n",
    "    X = reshape(x, n, 3)\n",
    "    energy = 0.0\n",
    "    for i in 1:n, j in (i+1):n\n",
    "        energy += 1.0/norm(X[i,:] - X[j,:])^2\n",
    "    end\n",
    "    return energy\n",
    "end\n",
    "\n",
    "function thompson_optimization(n::Int)\n",
    "    model = Model(JuMP.with_optimizer(Ipopt.Optimizer))\n",
    "\n",
    "    # Define variables\n",
    "    @variable(model, x[1:3n])\n",
    "    \n",
    "    # Define objective\n",
    "    @objective(model, Min, thompson_energy(x))\n",
    "    \n",
    "    # Define constraints\n",
    "    for i in 1:n\n",
    "        @constraint(model, norm(x[(i-1)*3+1:i*3]) == 1)\n",
    "    end\n",
    "    \n",
    "    # Solve the problem\n",
    "    optimize!(model)\n",
    "\n",
    "    return value.(x)\n",
    "end\n",
    "\n",
    "n = 10 # number of particles\n",
    "x = thompson_optimization(n)\n",
    "x = reshape(x, n, 3)\n",
    "println(\"Particle locations: \", x)\n",
    "println(\"Minimum energy: \", thompson_energy(x))\n"
   ]
  },
  {
   "cell_type": "code",
   "execution_count": 36,
   "metadata": {},
   "outputs": [
    {
     "ename": "LoadError",
     "evalue": "UndefVarError: NotDifferentiable not defined",
     "output_type": "error",
     "traceback": [
      "UndefVarError: NotDifferentiable not defined",
      "",
      "Stacktrace:",
      " [1] getproperty(x::Module, f::Symbol)",
      "   @ Base ./Base.jl:31",
      " [2] top-level scope",
      "   @ In[36]:47"
     ]
    }
   ],
   "source": [
    "using LinearAlgebra\n",
    "using Optim\n",
    "\n",
    "# Define the objective function\n",
    "function f(x)\n",
    "    n = length(x)\n",
    "    s = sum((sin(x).^2) .* ((1:n) .^2))\n",
    "    -s\n",
    "end\n",
    "\n",
    "# Define the constraint function\n",
    "function unit_norm_constraint(x)\n",
    "    sum(x.^2) - 1\n",
    "end\n",
    "\n",
    "# Define the gradient of the objective function\n",
    "function ∇f(x)\n",
    "    n = length(x)\n",
    "    s = (sin.(2x)) .* (1:n) .* (1:n)\n",
    "    -2 .* (cos.(2x)) .* s\n",
    "end\n",
    "\n",
    "# Define the gradient of the constraint function\n",
    "function ∇unit_norm_constraint(x)\n",
    "    2 .* x\n",
    "end\n",
    "\n",
    "# Define the augmented Lagrangian function\n",
    "function augmented_lagrangian(x, λ, μ)\n",
    "    f(x) - λ .* unit_norm_constraint(x) .+ (μ/2) .* (unit_norm_constraint(x).^2)\n",
    "end\n",
    "\n",
    "# Define the gradient of the augmented Lagrangian function\n",
    "function ∇augmented_lagrangian(x, λ, μ)\n",
    "    ∇f(x) - λ .* ∇unit_norm_constraint(x) .+ μ .* unit_norm_constraint(x) .* ∇unit_norm_constraint(x)\n",
    "end\n",
    "\n",
    "# Set the initial guess\n",
    "x0 = ones(10)\n",
    "\n",
    "# Set the Lagrange multiplier and penalty parameter\n",
    "λ0 = 1.0\n",
    "μ = 1.0\n",
    "\n",
    "# Define the objective function and the constraint function for the optimizer\n",
    "objective = (x) -> augmented_lagrangian(x, λ0, μ)\n",
    "constraint = Optim.NotDifferentiable((x) -> unit_norm_constraint(x))\n",
    "\n",
    "# Define the optimizer with the AugmentedLagrangian method\n",
    "optimizer = Optim.Options(iterations = 1000, show_trace = true)\n",
    "result = optimize(objective, x0, [constraint], AugmentedLagrangian(), optimizer)\n",
    "\n",
    "# Extract the solution\n",
    "x = result.minimizer\n",
    "\n",
    "# Print the solution and the value of the objective function\n",
    "println(\"Solution: \", x)\n",
    "println(\"Objective function value: \", -result.minimum)\n"
   ]
  },
  {
   "attachments": {},
   "cell_type": "markdown",
   "metadata": {},
   "source": [
    "## Projected Gradient Descent Algorithm"
   ]
  },
  {
   "cell_type": "code",
   "execution_count": 20,
   "metadata": {},
   "outputs": [
    {
     "name": "stdout",
     "output_type": "stream",
     "text": [
      "Minimum energy: 26.68525273752639\n",
      "Particle locations: [-0.07698623920415064 -0.11304100976432396 -0.08500934772079512 -0.5721305591435926 0.22920191196430173 -0.47759489908191344 0.26928235105934445 0.4723280259025849 -0.014001736567781623 -0.26514464322259923; -0.0769862392041474 -0.1130410097643202 -0.08500934772079533 -0.1371876560694286 0.46195237433495595 0.7026925068051701 -0.07034744170716173 -0.25170159436642925 -0.420829482632617 0.051683101870026386; -0.07698623920414727 -0.11304100976432009 -0.0850093477207953 0.6815610741879422 0.2852879658936274 -0.031402427759139866 -0.1883402927256734 -0.4032518304209447 -0.47862524076902324 -0.0010956188188974805; -0.07698623920414767 -0.11304100976432047 -0.08500934772079541 0.19984182551534724 -0.31418350534012174 -0.574241371099023 0.2526007136359527 -0.4764651133537613 -0.4129366778693885 0.21053325781818574; -0.07698623920414702 -0.11304100976431983 -0.0850093477207955 0.4964414798139634 -0.12786552745940666 0.12537856347233414 -0.6788678596551696 -0.0018730007017870377 -0.3467605398782 0.3382850701597295; -0.07698623920414827 -0.11304100976432106 -0.08500934772079487 0.4368485255891824 0.1229162749243333 0.30858079264146693 -0.09861083351694437 -0.40951156648508863 -0.060839252807831014 -0.701267334967631; -0.07698623920414709 -0.11304100976431991 -0.08500934772079513 0.015073431760819699 -0.5507340193984511 0.05858152602777295 -0.671256285576055 0.2383618362508947 0.201009070853367 0.3453914934586419; -0.07698623920414757 -0.11304100976432037 -0.08500934772079505 -0.37407470589008374 -0.5284962962359091 0.5456865719591528 -0.3152536727601596 0.1636630180399115 -0.34208828827100585 -0.11772572238683741; -0.07698623920414686 -0.11304100976431969 -0.08500934772079491 0.703342998814072 -0.14472452484160186 0.37269503527758135 -0.1561965989558604 0.15875471518158674 0.3685907768882195 0.36615640178476655; -0.07698623920414922 -0.11304100976432209 -0.08500934772079403 -0.15882919872711793 -0.1216057045096988 -0.016190346478483726 0.08643727742539098 -0.274777364302855 0.3511807955643098 -0.8529299600746463]\n"
     ]
    }
   ],
   "source": [
    "using LinearAlgebra\n",
    "\n",
    "function energy_obj(x::Vector)\n",
    "    n = length(x)÷dim\n",
    "    X = reshape(x, n, dim)\n",
    "    energy = 0.0\n",
    "    for i in 1:n, j in (i+1):n\n",
    "        energy += 1.0/norm(X[i,:] - X[j,:])^2\n",
    "    end\n",
    "    return energy\n",
    "end\n",
    "\n",
    "function project_onto_sphere(x::Vector)\n",
    "    X = reshape(x, n, dim)\n",
    "    for j in 1:n\n",
    "        norm_k = norm(X[j, 1:dim])\n",
    "        for k in 1:dim\n",
    "            X[j, k] = X[j, k] ./ norm_k\n",
    "        end\n",
    "        #print(norm(X[j, 1:3]))\n",
    "    end\n",
    "    #return x ./ norm(x)\n",
    "    return reshape(X, n*dim)\n",
    "end\n",
    "\n",
    "function optimization(n::Int, learning_rate::Float64, num_iterations::Int)\n",
    "    x = randn(n*dim)\n",
    "    x = project_onto_sphere(x)\n",
    "    for i in 1:num_iterations\n",
    "        gradient = zeros(n, dim)\n",
    "        X = reshape(x, n, dim)\n",
    "        for j in 1:n\n",
    "            for k in 1:3\n",
    "                for l in 1:n\n",
    "                    if l != j\n",
    "                        gradient[j,k] += 2*(X[j,k] - X[l,k])/norm(X[j,:] - X[l,:])^4\n",
    "                    end\n",
    "                end\n",
    "            end\n",
    "        end\n",
    "        x -= learning_rate * reshape(gradient, n*dim)\n",
    "        x = project_onto_sphere(x)\n",
    "        #print(X)\n",
    "    end\n",
    "    X = reshape(x, n, dim)\n",
    "    return X, energy_obj(x)\n",
    "end\n",
    "\n",
    "n = 10 # number of particles\n",
    "dim = 10\n",
    "learning_rate = 0.001 # step size\n",
    "num_iterations = 10000 # number of iterations\n",
    "X, energy = optimization(n, learning_rate, num_iterations)\n",
    "println(\"Minimum energy: \", energy)\n",
    "println(\"Particle locations: \", X)\n"
   ]
  },
  {
   "cell_type": "code",
   "execution_count": 8,
   "metadata": {},
   "outputs": [
    {
     "ename": "LoadError",
     "evalue": "UndefVarError: SQP not defined",
     "output_type": "error",
     "traceback": [
      "UndefVarError: SQP not defined",
      "",
      "Stacktrace:",
      " [1] thompson_optimization(n::Int64)",
      "   @ Main ./In[8]:19",
      " [2] top-level scope",
      "   @ In[8]:30"
     ]
    }
   ],
   "source": []
  }
 ],
 "metadata": {
  "kernelspec": {
   "display_name": "Julia 1.8.5",
   "language": "julia",
   "name": "julia-1.8"
  },
  "language_info": {
   "file_extension": ".jl",
   "mimetype": "application/julia",
   "name": "julia",
   "version": "1.8.5"
  },
  "orig_nbformat": 4
 },
 "nbformat": 4,
 "nbformat_minor": 2
}
