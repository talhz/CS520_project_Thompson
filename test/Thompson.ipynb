{
 "cells": [
  {
   "cell_type": "code",
   "execution_count": 8,
   "metadata": {},
   "outputs": [
    {
     "name": "stdout",
     "output_type": "stream",
     "text": [
      "===============================================================================\n",
      "                                     CVXPY                                     \n",
      "                                     v1.3.1                                    \n",
      "===============================================================================\n",
      "(CVXPY) Apr 08 03:54:41 PM: Your problem has 100 variables, 100 constraints, and 0 parameters.\n",
      "(CVXPY) Apr 08 03:54:41 PM: It is compliant with the following grammars: DCP, DQCP\n",
      "(CVXPY) Apr 08 03:54:41 PM: (If you need to solve this problem multiple times, but with different data, consider using parameters.)\n",
      "(CVXPY) Apr 08 03:54:41 PM: CVXPY will first compile your problem; then, it will invoke a numerical solver to obtain a solution.\n"
     ]
    },
    {
     "ename": "SolverError",
     "evalue": "The solver SCS is not installed.",
     "output_type": "error",
     "traceback": [
      "\u001b[1;31m---------------------------------------------------------------------------\u001b[0m",
      "\u001b[1;31mSolverError\u001b[0m                               Traceback (most recent call last)",
      "Cell \u001b[1;32mIn[8], line 17\u001b[0m\n\u001b[0;32m     14\u001b[0m problem \u001b[39m=\u001b[39m cp\u001b[39m.\u001b[39mProblem(cp\u001b[39m.\u001b[39mMinimize(f), constraints)\n\u001b[0;32m     16\u001b[0m \u001b[39m# Solve the problem\u001b[39;00m\n\u001b[1;32m---> 17\u001b[0m problem\u001b[39m.\u001b[39;49msolve(cp\u001b[39m.\u001b[39;49mSCS, verbose\u001b[39m=\u001b[39;49m\u001b[39mTrue\u001b[39;49;00m)\n\u001b[0;32m     18\u001b[0m \u001b[39mprint\u001b[39m(\u001b[39m\"\u001b[39m\u001b[39mOptimal value: \u001b[39m\u001b[39m\"\u001b[39m, problem\u001b[39m.\u001b[39mvalue)\n\u001b[0;32m     19\u001b[0m \u001b[39mprint\u001b[39m(\u001b[39m\"\u001b[39m\u001b[39mOptimal y: \u001b[39m\u001b[39m\"\u001b[39m, y\u001b[39m.\u001b[39mvalue)\n",
      "File \u001b[1;32mc:\\Users\\17654\\.conda\\envs\\DeepL\\lib\\site-packages\\cvxpy\\problems\\problem.py:493\u001b[0m, in \u001b[0;36mProblem.solve\u001b[1;34m(self, *args, **kwargs)\u001b[0m\n\u001b[0;32m    491\u001b[0m \u001b[39melse\u001b[39;00m:\n\u001b[0;32m    492\u001b[0m     solve_func \u001b[39m=\u001b[39m Problem\u001b[39m.\u001b[39m_solve\n\u001b[1;32m--> 493\u001b[0m \u001b[39mreturn\u001b[39;00m solve_func(\u001b[39mself\u001b[39;49m, \u001b[39m*\u001b[39;49margs, \u001b[39m*\u001b[39;49m\u001b[39m*\u001b[39;49mkwargs)\n",
      "File \u001b[1;32mc:\\Users\\17654\\.conda\\envs\\DeepL\\lib\\site-packages\\cvxpy\\problems\\problem.py:1054\u001b[0m, in \u001b[0;36mProblem._solve\u001b[1;34m(self, solver, warm_start, verbose, gp, qcp, requires_grad, enforce_dpp, ignore_dpp, canon_backend, **kwargs)\u001b[0m\n\u001b[0;32m   1051\u001b[0m         \u001b[39mself\u001b[39m\u001b[39m.\u001b[39munpack(chain\u001b[39m.\u001b[39mretrieve(soln))\n\u001b[0;32m   1052\u001b[0m         \u001b[39mreturn\u001b[39;00m \u001b[39mself\u001b[39m\u001b[39m.\u001b[39mvalue\n\u001b[1;32m-> 1054\u001b[0m data, solving_chain, inverse_data \u001b[39m=\u001b[39m \u001b[39mself\u001b[39;49m\u001b[39m.\u001b[39;49mget_problem_data(\n\u001b[0;32m   1055\u001b[0m     solver, gp, enforce_dpp, ignore_dpp, verbose, canon_backend, kwargs\n\u001b[0;32m   1056\u001b[0m )\n\u001b[0;32m   1058\u001b[0m \u001b[39mif\u001b[39;00m verbose:\n\u001b[0;32m   1059\u001b[0m     \u001b[39mprint\u001b[39m(_NUM_SOLVER_STR)\n",
      "File \u001b[1;32mc:\\Users\\17654\\.conda\\envs\\DeepL\\lib\\site-packages\\cvxpy\\problems\\problem.py:631\u001b[0m, in \u001b[0;36mProblem.get_problem_data\u001b[1;34m(self, solver, gp, enforce_dpp, ignore_dpp, verbose, canon_backend, solver_opts)\u001b[0m\n\u001b[0;32m    629\u001b[0m \u001b[39mif\u001b[39;00m key \u001b[39m!=\u001b[39m \u001b[39mself\u001b[39m\u001b[39m.\u001b[39m_cache\u001b[39m.\u001b[39mkey:\n\u001b[0;32m    630\u001b[0m     \u001b[39mself\u001b[39m\u001b[39m.\u001b[39m_cache\u001b[39m.\u001b[39minvalidate()\n\u001b[1;32m--> 631\u001b[0m     solving_chain \u001b[39m=\u001b[39m \u001b[39mself\u001b[39;49m\u001b[39m.\u001b[39;49m_construct_chain(\n\u001b[0;32m    632\u001b[0m         solver\u001b[39m=\u001b[39;49msolver, gp\u001b[39m=\u001b[39;49mgp,\n\u001b[0;32m    633\u001b[0m         enforce_dpp\u001b[39m=\u001b[39;49menforce_dpp,\n\u001b[0;32m    634\u001b[0m         ignore_dpp\u001b[39m=\u001b[39;49mignore_dpp,\n\u001b[0;32m    635\u001b[0m         canon_backend\u001b[39m=\u001b[39;49mcanon_backend,\n\u001b[0;32m    636\u001b[0m         solver_opts\u001b[39m=\u001b[39;49msolver_opts)\n\u001b[0;32m    637\u001b[0m     \u001b[39mself\u001b[39m\u001b[39m.\u001b[39m_cache\u001b[39m.\u001b[39mkey \u001b[39m=\u001b[39m key\n\u001b[0;32m    638\u001b[0m     \u001b[39mself\u001b[39m\u001b[39m.\u001b[39m_cache\u001b[39m.\u001b[39msolving_chain \u001b[39m=\u001b[39m solving_chain\n",
      "File \u001b[1;32mc:\\Users\\17654\\.conda\\envs\\DeepL\\lib\\site-packages\\cvxpy\\problems\\problem.py:881\u001b[0m, in \u001b[0;36mProblem._construct_chain\u001b[1;34m(self, solver, gp, enforce_dpp, ignore_dpp, canon_backend, solver_opts)\u001b[0m\n\u001b[0;32m    839\u001b[0m \u001b[39mdef\u001b[39;00m \u001b[39m_construct_chain\u001b[39m(\n\u001b[0;32m    840\u001b[0m         \u001b[39mself\u001b[39m,\n\u001b[0;32m    841\u001b[0m         solver: Optional[\u001b[39mstr\u001b[39m] \u001b[39m=\u001b[39m \u001b[39mNone\u001b[39;00m,\n\u001b[1;32m   (...)\u001b[0m\n\u001b[0;32m    846\u001b[0m         solver_opts: Optional[\u001b[39mdict\u001b[39m] \u001b[39m=\u001b[39m \u001b[39mNone\u001b[39;00m\n\u001b[0;32m    847\u001b[0m ) \u001b[39m-\u001b[39m\u001b[39m>\u001b[39m SolvingChain:\n\u001b[0;32m    848\u001b[0m \u001b[39m    \u001b[39m\u001b[39m\"\"\"\u001b[39;00m\n\u001b[0;32m    849\u001b[0m \u001b[39m    Construct the chains required to reformulate and solve the problem.\u001b[39;00m\n\u001b[0;32m    850\u001b[0m \n\u001b[1;32m   (...)\u001b[0m\n\u001b[0;32m    879\u001b[0m \u001b[39m    A solving chain\u001b[39;00m\n\u001b[0;32m    880\u001b[0m \u001b[39m    \"\"\"\u001b[39;00m\n\u001b[1;32m--> 881\u001b[0m     candidate_solvers \u001b[39m=\u001b[39m \u001b[39mself\u001b[39;49m\u001b[39m.\u001b[39;49m_find_candidate_solvers(solver\u001b[39m=\u001b[39;49msolver, gp\u001b[39m=\u001b[39;49mgp)\n\u001b[0;32m    882\u001b[0m     \u001b[39mself\u001b[39m\u001b[39m.\u001b[39m_sort_candidate_solvers(candidate_solvers)\n\u001b[0;32m    883\u001b[0m     \u001b[39mreturn\u001b[39;00m construct_solving_chain(\u001b[39mself\u001b[39m, candidate_solvers, gp\u001b[39m=\u001b[39mgp,\n\u001b[0;32m    884\u001b[0m                                    enforce_dpp\u001b[39m=\u001b[39menforce_dpp,\n\u001b[0;32m    885\u001b[0m                                    ignore_dpp\u001b[39m=\u001b[39mignore_dpp,\n\u001b[0;32m    886\u001b[0m                                    canon_backend\u001b[39m=\u001b[39mcanon_backend,\n\u001b[0;32m    887\u001b[0m                                    solver_opts\u001b[39m=\u001b[39msolver_opts)\n",
      "File \u001b[1;32mc:\\Users\\17654\\.conda\\envs\\DeepL\\lib\\site-packages\\cvxpy\\problems\\problem.py:744\u001b[0m, in \u001b[0;36mProblem._find_candidate_solvers\u001b[1;34m(self, solver, gp)\u001b[0m\n\u001b[0;32m    742\u001b[0m \u001b[39mif\u001b[39;00m solver \u001b[39mis\u001b[39;00m \u001b[39mnot\u001b[39;00m \u001b[39mNone\u001b[39;00m:\n\u001b[0;32m    743\u001b[0m     \u001b[39mif\u001b[39;00m solver \u001b[39mnot\u001b[39;00m \u001b[39min\u001b[39;00m slv_def\u001b[39m.\u001b[39mINSTALLED_SOLVERS:\n\u001b[1;32m--> 744\u001b[0m         \u001b[39mraise\u001b[39;00m error\u001b[39m.\u001b[39mSolverError(\u001b[39m\"\u001b[39m\u001b[39mThe solver \u001b[39m\u001b[39m%s\u001b[39;00m\u001b[39m is not installed.\u001b[39m\u001b[39m\"\u001b[39m \u001b[39m%\u001b[39m solver)\n\u001b[0;32m    745\u001b[0m     \u001b[39mif\u001b[39;00m solver \u001b[39min\u001b[39;00m slv_def\u001b[39m.\u001b[39mCONIC_SOLVERS:\n\u001b[0;32m    746\u001b[0m         candidates[\u001b[39m'\u001b[39m\u001b[39mconic_solvers\u001b[39m\u001b[39m'\u001b[39m] \u001b[39m+\u001b[39m\u001b[39m=\u001b[39m [solver]\n",
      "\u001b[1;31mSolverError\u001b[0m: The solver SCS is not installed."
     ]
    }
   ],
   "source": [
    "import cvxpy as cp\n",
    "import numpy as np\n",
    "\n",
    "# Define the problem data\n",
    "n = 10 # number of variables\n",
    "y = cp.Variable((n,n), symmetric=True) # variable\n",
    "constraints = [y[i,i] == 1 for i in range(n)] # equality constraints\n",
    "for i in range(n):\n",
    "    for j in range(i):\n",
    "        constraints += [-1 <= y[i,j], y[i,j] <= 1] # inequality constraints\n",
    "f = cp.sum(cp.inv_pos(1-y[np.triu_indices(n,1)])) # objective function\n",
    "\n",
    "# Define the optimization problem\n",
    "problem = cp.Problem(cp.Minimize(f), constraints)\n",
    "\n",
    "# Solve the problem\n",
    "problem.solve(cp.SCS, verbose=True)\n",
    "print(\"Optimal value: \", problem.value)\n",
    "print(\"Optimal y: \", y.value)\n"
   ]
  },
  {
   "cell_type": "code",
   "execution_count": null,
   "metadata": {},
   "outputs": [],
   "source": []
  }
 ],
 "metadata": {
  "kernelspec": {
   "display_name": "DeepL",
   "language": "python",
   "name": "python3"
  },
  "language_info": {
   "codemirror_mode": {
    "name": "ipython",
    "version": 3
   },
   "file_extension": ".py",
   "mimetype": "text/x-python",
   "name": "python",
   "nbconvert_exporter": "python",
   "pygments_lexer": "ipython3",
   "version": "3.8.16"
  },
  "orig_nbformat": 4
 },
 "nbformat": 4,
 "nbformat_minor": 2
}
